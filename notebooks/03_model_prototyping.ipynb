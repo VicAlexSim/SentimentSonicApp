{
 "cells": [
  {
   "cell_type": "code",
   "execution_count": null,
   "id": "0009c1f2",
   "metadata": {},
   "outputs": [],
   "source": [
    "# setup\n",
    "import numpy as np\n",
    "import sys\n",
    "import os\n",
    "from sklearn.model_selection import train_test_split\n",
    "from sklearn.preprocessing import LabelEncoder\n",
    "from tensorflow.keras.utils import to_categorical\n",
    "sys.path.append(os.path.abspath('../src'))\n",
    "from model import build_cnn_model, build_cnn_lstm_model\n",
    "\n",
    "# load features and labels\n",
    "mfccs = np.load(\"../data/features/mfccs.npy\")\n",
    "spectrograms = np.load(\"../data/features/spectrograms.npy\")\n",
    "labels = np.load(\"../data/features/feature_labels.npy\")\n",
    "\n",
    "# encode labels\n",
    "le = LabelEncoder()\n",
    "labels_int = le.fit_transform(labels)\n",
    "labels_onehot = to_categorical(labels_int)\n",
    "\n",
    "# train/val/test split (80/10/10)\n",
    "X_mfcc_train, X_mfcc_temp, X_spec_train, X_spec_temp, y_train, y_temp = train_test_split(\n",
    "    mfccs, spectrograms, labels_onehot, test_size=0.2, stratify=labels_int, random_state=42\n",
    ")\n",
    "X_mfcc_val, X_mfcc_test, X_spec_val, X_spec_test, y_val, y_test = train_test_split(\n",
    "    X_mfcc_temp, X_spec_temp, y_temp, test_size=0.5, stratify=np.argmax(y_temp, axis=1), random_state=42\n",
    ")"
   ]
  },
  {
   "cell_type": "code",
   "execution_count": null,
   "id": "b66b83cc",
   "metadata": {},
   "outputs": [
    {
     "name": "stdout",
     "output_type": "stream",
     "text": [
      "Original shape: (14555, 13, 400)\n",
      "Transformed shape: (14555, 400, 13, 1)\n"
     ]
    }
   ],
   "source": [
    "# check current shape\n",
    "print(\"Original shape:\", X_mfcc_train.shape)\n",
    "\n",
    "# transpose to (batch, time, features)\n",
    "if X_mfcc_train.shape[1] == 13:\n",
    "    X_mfcc_train = np.transpose(X_mfcc_train, (0, 2, 1))\n",
    "    X_mfcc_val = np.transpose(X_mfcc_val, (0, 2, 1))\n",
    "\n",
    "# add channel dimension, 4D\n",
    "X_mfcc_train = X_mfcc_train[..., np.newaxis]\n",
    "X_mfcc_val = X_mfcc_val[..., np.newaxis]\n",
    "\n",
    "print(\"Transformed shape:\", X_mfcc_train.shape)\n"
   ]
  },
  {
   "cell_type": "code",
   "execution_count": 7,
   "id": "e59892fc",
   "metadata": {},
   "outputs": [
    {
     "name": "stdout",
     "output_type": "stream",
     "text": [
      "Epoch 1/10\n",
      "455/455 - 49s - 108ms/step - accuracy: 0.2347 - loss: 1.7032 - val_accuracy: 0.2314 - val_loss: 1.5978\n",
      "Epoch 2/10\n",
      "455/455 - 46s - 102ms/step - accuracy: 0.2315 - loss: 1.5964 - val_accuracy: 0.2314 - val_loss: 1.5953\n",
      "Epoch 3/10\n",
      "455/455 - 45s - 100ms/step - accuracy: 0.2315 - loss: 1.5954 - val_accuracy: 0.2314 - val_loss: 1.5950\n",
      "Epoch 4/10\n",
      "455/455 - 46s - 101ms/step - accuracy: 0.2315 - loss: 1.5958 - val_accuracy: 0.2314 - val_loss: 1.5949\n"
     ]
    },
    {
     "data": {
      "text/plain": [
       "<keras.src.callbacks.history.History at 0x27efc5f2bd0>"
      ]
     },
     "execution_count": 7,
     "metadata": {},
     "output_type": "execute_result"
    }
   ],
   "source": [
    "from tensorflow.keras.callbacks import EarlyStopping\n",
    "\n",
    "# build model\n",
    "input_shape = X_mfcc_train.shape[1:]\n",
    "num_classes = y_train.shape[1]\n",
    "mfcc_model = build_cnn_model(input_shape, num_classes)\n",
    "\n",
    "# train model\n",
    "mfcc_model.fit(\n",
    "    X_mfcc_train, y_train,\n",
    "    validation_data=(X_mfcc_val, y_val),\n",
    "    epochs=10,\n",
    "    batch_size=32,\n",
    "    callbacks=[EarlyStopping(monitor='val_accuracy', patience=3, restore_best_weights=True)],\n",
    "    verbose=2\n",
    ")"
   ]
  },
  {
   "cell_type": "code",
   "execution_count": null,
   "id": "23c510e4",
   "metadata": {},
   "outputs": [
    {
     "name": "stdout",
     "output_type": "stream",
     "text": [
      "Original spectrogram shape: (14555, 128, 400)\n",
      "Transformed spectrogram shape: (14555, 400, 128, 1)\n"
     ]
    }
   ],
   "source": [
    "# check current shape\n",
    "print(\"Original spectrogram shape:\", X_spec_train.shape)\n",
    "\n",
    "# transpose (batch, time, frequency)\n",
    "if X_spec_train.shape[1] == 128:\n",
    "    X_spec_train = np.transpose(X_spec_train, (0, 2, 1))\n",
    "    X_spec_val = np.transpose(X_spec_val, (0, 2, 1))\n",
    "\n",
    "# add channel dimension, 4D\n",
    "X_spec_train = X_spec_train[..., np.newaxis]\n",
    "X_spec_val = X_spec_val[..., np.newaxis]\n",
    "\n",
    "print(\"Transformed spectrogram shape:\", X_spec_train.shape)\n"
   ]
  },
  {
   "cell_type": "code",
   "execution_count": 10,
   "id": "96634bd7",
   "metadata": {},
   "outputs": [
    {
     "name": "stdout",
     "output_type": "stream",
     "text": [
      "Epoch 1/10\n",
      "455/455 - 528s - 1s/step - accuracy: 0.2189 - loss: 1.6247 - val_accuracy: 0.2314 - val_loss: 1.5969\n",
      "Epoch 2/10\n",
      "455/455 - 523s - 1s/step - accuracy: 0.2273 - loss: 1.5992 - val_accuracy: 0.2314 - val_loss: 1.5963\n",
      "Epoch 3/10\n",
      "455/455 - 522s - 1s/step - accuracy: 0.2298 - loss: 1.5973 - val_accuracy: 0.2336 - val_loss: 1.5945\n",
      "Epoch 4/10\n",
      "455/455 - 517s - 1s/step - accuracy: 0.2269 - loss: 1.5965 - val_accuracy: 0.2336 - val_loss: 1.5946\n",
      "Epoch 5/10\n",
      "455/455 - 511s - 1s/step - accuracy: 0.2285 - loss: 1.5956 - val_accuracy: 0.2336 - val_loss: 1.5944\n",
      "Epoch 6/10\n",
      "455/455 - 512s - 1s/step - accuracy: 0.2288 - loss: 1.5958 - val_accuracy: 0.2336 - val_loss: 1.5942\n"
     ]
    },
    {
     "data": {
      "text/plain": [
       "<keras.src.callbacks.history.History at 0x28100462a50>"
      ]
     },
     "execution_count": 10,
     "metadata": {},
     "output_type": "execute_result"
    }
   ],
   "source": [
    "# build model\n",
    "input_shape = X_spec_train.shape[1:]\n",
    "spec_model = build_cnn_lstm_model(input_shape, num_classes)\n",
    "\n",
    "# train model\n",
    "spec_model.fit(\n",
    "    X_spec_train, y_train,\n",
    "    validation_data=(X_spec_val, y_val),\n",
    "    epochs=10,\n",
    "    batch_size=32,\n",
    "    callbacks=[EarlyStopping(monitor='val_accuracy', patience=3, restore_best_weights=True)],\n",
    "    verbose=2\n",
    ")"
   ]
  },
  {
   "cell_type": "code",
   "execution_count": null,
   "id": "b1e58a4b",
   "metadata": {},
   "outputs": [
    {
     "name": "stdout",
     "output_type": "stream",
     "text": [
      "Epoch 1/10\n"
     ]
    }
   ],
   "source": [
    "from tensorflow.keras.models import Model\n",
    "from tensorflow.keras.layers import Input, Concatenate, Dense, Dropout\n",
    "\n",
    "from model import build_mfcc_branch, build_spec_branch\n",
    "\n",
    "mfcc_input = Input(shape=X_mfcc_train.shape[1:])\n",
    "spec_input = Input(shape=X_spec_train.shape[1:])\n",
    "\n",
    "# build branches\n",
    "mfcc_branch = build_mfcc_branch(mfcc_input)\n",
    "spec_branch = build_spec_branch(spec_input)\n",
    "\n",
    "# combine and build model\n",
    "x = Concatenate()([mfcc_branch, spec_branch])\n",
    "x = Dense(128, activation='relu')(x)\n",
    "x = Dropout(0.5)(x)\n",
    "output = Dense(num_classes, activation='softmax')(x)\n",
    "\n",
    "dual_model = Model(inputs=[mfcc_input, spec_input], outputs=output)\n",
    "dual_model.compile(optimizer='adam', loss='categorical_crossentropy', metrics=['accuracy'])\n",
    "\n",
    "# train model\n",
    "dual_model.fit(\n",
    "    [X_mfcc_train, X_spec_train], y_train,\n",
    "    validation_data=([X_mfcc_val, X_spec_val], y_val),\n",
    "    epochs=10,\n",
    "    batch_size=32,\n",
    "    callbacks=[EarlyStopping(monitor='val_accuracy', patience=3, restore_best_weights=True)],\n",
    "    verbose=2\n",
    ")\n"
   ]
  },
  {
   "cell_type": "code",
   "execution_count": null,
   "id": "e6161d1f",
   "metadata": {},
   "outputs": [],
   "source": [
    "from sklearn.metrics import classification_report, confusion_matrix\n",
    "import numpy as np\n",
    "\n",
    "def evaluate_model(model, X_test, y_test, label_encoder, dual_input=False, spec_X_test=None):\n",
    "    if dual_input:\n",
    "        predictions = model.predict([X_test, spec_X_test])\n",
    "    else:\n",
    "        predictions = model.predict(X_test)\n",
    "    \n",
    "    y_true = np.argmax(y_test, axis=1)\n",
    "    y_pred = np.argmax(predictions, axis=1)\n",
    "\n",
    "    print(\"Classification Report:\\n\")\n",
    "    print(classification_report(y_true, y_pred, target_names=label_encoder.classes_))\n",
    "    print(\"\\nConfusion Matrix:\\n\")\n",
    "    print(confusion_matrix(y_true, y_pred))"
   ]
  },
  {
   "cell_type": "code",
   "execution_count": null,
   "id": "c7aae0a8",
   "metadata": {},
   "outputs": [],
   "source": [
    "print(\"MFCC-Only Model Evaluation:\")\n",
    "evaluate_model(mfcc_model, X_mfcc_test, y_test, le)\n",
    "\n",
    "print(\"\\nSpectrogram-Only Model Evaluation:\")\n",
    "evaluate_model(spec_model, X_spec_test, y_test, le)\n",
    "\n",
    "print(\"\\nCombined Model Evaluation:\")\n",
    "evaluate_model(dual_model, X_mfcc_test, y_test, le, dual_input=True, spec_X_test=X_spec_test)\n"
   ]
  }
 ],
 "metadata": {
  "kernelspec": {
   "display_name": "venv",
   "language": "python",
   "name": "python3"
  },
  "language_info": {
   "codemirror_mode": {
    "name": "ipython",
    "version": 3
   },
   "file_extension": ".py",
   "mimetype": "text/x-python",
   "name": "python",
   "nbconvert_exporter": "python",
   "pygments_lexer": "ipython3",
   "version": "3.11.5"
  }
 },
 "nbformat": 4,
 "nbformat_minor": 5
}
