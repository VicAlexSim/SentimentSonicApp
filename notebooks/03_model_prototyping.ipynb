{
 "cells": [
  {
   "cell_type": "code",
   "execution_count": null,
   "id": "8f82543a",
   "metadata": {},
   "outputs": [],
   "source": [
    "# setup\n",
    "import numpy as np\n",
    "import os\n",
    "import sys\n",
    "import matplotlib.pyplot as plt\n",
    "sys.path.append(os.path.abspath('../src'))\n",
    "from sklearn.preprocessing import LabelEncoder\n",
    "from sklearn.utils.class_weight import compute_class_weight\n",
    "from tensorflow.keras.utils import to_categorical\n",
    "from tensorflow.keras.callbacks import ModelCheckpoint\n",
    "from tensorflow.keras.models import Model\n",
    "from tensorflow.keras.layers import Input, Concatenate, Dense, Dropout, Flatten\n",
    "from model import build_mfcc_branch, build_spec_branch"
   ]
  },
  {
   "cell_type": "code",
   "execution_count": null,
   "id": "35fe80a9",
   "metadata": {},
   "outputs": [
    {
     "name": "stdout",
     "output_type": "stream",
     "text": [
      "anger: 3688\n",
      "frustration: 3778\n",
      "happy: 2507\n",
      "neutral: 4211\n",
      "sad: 4010\n"
     ]
    }
   ],
   "source": [
    "# load and inspect features\n",
    "FEATURES_DIR = '../data/features/'\n",
    "MODEL_SAVE_PATH = '../results/models/emotion_dual_model.h5'\n",
    "\n",
    "mfcc = np.load(os.path.join(FEATURES_DIR, 'mfccs.npy'))\n",
    "spec = np.load(os.path.join(FEATURES_DIR, 'spectrograms.npy'))\n",
    "labels = np.load(os.path.join(FEATURES_DIR, 'feature_labels.npy'))\n",
    "\n",
    "unique, counts = np.unique(labels, return_counts=True)\n",
    "for label, count in zip(unique, counts):\n",
    "    print(f\"{label}: {count}\")"
   ]
  },
  {
   "cell_type": "code",
   "execution_count": null,
   "id": "4507eff2",
   "metadata": {},
   "outputs": [],
   "source": [
    "# preprocess features, reshaping and normalizing\n",
    "if mfcc.shape[1] == 13:\n",
    "    mfcc = np.transpose(mfcc, (0, 2, 1))\n",
    "mfcc = mfcc[..., np.newaxis]\n",
    "\n",
    "if spec.shape[1] == 128:\n",
    "    spec = np.transpose(spec, (0, 2, 1))\n",
    "spec = spec[..., np.newaxis]\n",
    "\n",
    "mfcc_mean = np.mean(mfcc)\n",
    "mfcc_std = np.std(mfcc)\n",
    "mfcc = (mfcc - mfcc_mean) / mfcc_std\n",
    "\n",
    "spec_mean = np.mean(spec)\n",
    "spec_std = np.std(spec)\n",
    "spec = (spec - spec_mean) / spec_std\n"
   ]
  },
  {
   "cell_type": "code",
   "execution_count": null,
   "id": "acd94960",
   "metadata": {},
   "outputs": [
    {
     "name": "stdout",
     "output_type": "stream",
     "text": [
      "Class label order: ['anger' 'frustration' 'happy' 'neutral' 'sad']\n"
     ]
    }
   ],
   "source": [
    "# encode labels and find class weights\n",
    "le = LabelEncoder()\n",
    "y_int = le.fit_transform(labels)\n",
    "y = to_categorical(y_int)\n",
    "\n",
    "print(\"Class label order:\", le.classes_)\n",
    "\n",
    "class_weights = compute_class_weight(class_weight='balanced', classes=np.unique(y_int), y=y_int)\n",
    "class_weights_dict = {i: weight for i, weight in enumerate(class_weights)}"
   ]
  },
  {
   "cell_type": "code",
   "execution_count": null,
   "id": "71dccf3f",
   "metadata": {},
   "outputs": [],
   "source": [
    "# train/validation split\n",
    "from sklearn.model_selection import train_test_split\n",
    "mfcc_train, mfcc_val, spec_train, spec_val, y_train, y_val = train_test_split(\n",
    "    mfcc, spec, y, test_size=0.2, stratify=y_int, random_state=42\n",
    ")"
   ]
  },
  {
   "cell_type": "code",
   "execution_count": null,
   "id": "2d88871c",
   "metadata": {},
   "outputs": [],
   "source": [
    "# build dual input model\n",
    "mfcc_input = Input(shape=mfcc.shape[1:])\n",
    "spec_input = Input(shape=spec.shape[1:])\n",
    "\n",
    "mfcc_branch = build_mfcc_branch(mfcc_input)\n",
    "spec_branch = build_spec_branch(spec_input)\n",
    "\n",
    "combined = Concatenate()([mfcc_branch, spec_branch])\n",
    "x = Flatten()(combined)\n",
    "x = Dense(128, activation='relu')(x)\n",
    "x = Dropout(0.5)(x)\n",
    "out = Dense(y.shape[1], activation='softmax')(x)\n",
    "\n",
    "model = Model(inputs=[mfcc_input, spec_input], outputs=out)\n",
    "model.compile(optimizer='adam', loss='categorical_crossentropy', metrics=['accuracy'])"
   ]
  },
  {
   "cell_type": "code",
   "execution_count": null,
   "id": "1667dd26",
   "metadata": {},
   "outputs": [
    {
     "name": "stdout",
     "output_type": "stream",
     "text": [
      "Epoch 1/20\n",
      "\u001b[1m455/455\u001b[0m \u001b[32m━━━━━━━━━━━━━━━━━━━━\u001b[0m\u001b[37m\u001b[0m \u001b[1m0s\u001b[0m 537ms/step - accuracy: 0.2465 - loss: 2.2950"
     ]
    },
    {
     "name": "stderr",
     "output_type": "stream",
     "text": [
      "WARNING:absl:You are saving your model as an HDF5 file via `model.save()` or `keras.saving.save_model(model)`. This file format is considered legacy. We recommend using instead the native Keras format, e.g. `model.save('my_model.keras')` or `keras.saving.save_model(model, 'my_model.keras')`. \n"
     ]
    },
    {
     "name": "stdout",
     "output_type": "stream",
     "text": [
      "\u001b[1m455/455\u001b[0m \u001b[32m━━━━━━━━━━━━━━━━━━━━\u001b[0m\u001b[37m\u001b[0m \u001b[1m262s\u001b[0m 567ms/step - accuracy: 0.2466 - loss: 2.2937 - val_accuracy: 0.4553 - val_loss: 1.3003\n",
      "Epoch 2/20\n",
      "\u001b[1m455/455\u001b[0m \u001b[32m━━━━━━━━━━━━━━━━━━━━\u001b[0m\u001b[37m\u001b[0m \u001b[1m0s\u001b[0m 546ms/step - accuracy: 0.4017 - loss: 1.3722"
     ]
    },
    {
     "name": "stderr",
     "output_type": "stream",
     "text": [
      "WARNING:absl:You are saving your model as an HDF5 file via `model.save()` or `keras.saving.save_model(model)`. This file format is considered legacy. We recommend using instead the native Keras format, e.g. `model.save('my_model.keras')` or `keras.saving.save_model(model, 'my_model.keras')`. \n"
     ]
    },
    {
     "name": "stdout",
     "output_type": "stream",
     "text": [
      "\u001b[1m455/455\u001b[0m \u001b[32m━━━━━━━━━━━━━━━━━━━━\u001b[0m\u001b[37m\u001b[0m \u001b[1m262s\u001b[0m 575ms/step - accuracy: 0.4017 - loss: 1.3722 - val_accuracy: 0.4727 - val_loss: 1.2450\n",
      "Epoch 3/20\n",
      "\u001b[1m455/455\u001b[0m \u001b[32m━━━━━━━━━━━━━━━━━━━━\u001b[0m\u001b[37m\u001b[0m \u001b[1m4337s\u001b[0m 10s/step - accuracy: 0.4314 - loss: 1.3203 - val_accuracy: 0.4617 - val_loss: 1.2719\n",
      "Epoch 4/20\n",
      "\u001b[1m455/455\u001b[0m \u001b[32m━━━━━━━━━━━━━━━━━━━━\u001b[0m\u001b[37m\u001b[0m \u001b[1m0s\u001b[0m 563ms/step - accuracy: 0.4420 - loss: 1.3032"
     ]
    },
    {
     "name": "stderr",
     "output_type": "stream",
     "text": [
      "WARNING:absl:You are saving your model as an HDF5 file via `model.save()` or `keras.saving.save_model(model)`. This file format is considered legacy. We recommend using instead the native Keras format, e.g. `model.save('my_model.keras')` or `keras.saving.save_model(model, 'my_model.keras')`. \n"
     ]
    },
    {
     "name": "stdout",
     "output_type": "stream",
     "text": [
      "\u001b[1m455/455\u001b[0m \u001b[32m━━━━━━━━━━━━━━━━━━━━\u001b[0m\u001b[37m\u001b[0m \u001b[1m267s\u001b[0m 586ms/step - accuracy: 0.4420 - loss: 1.3032 - val_accuracy: 0.4894 - val_loss: 1.2198\n",
      "Epoch 5/20\n",
      "\u001b[1m455/455\u001b[0m \u001b[32m━━━━━━━━━━━━━━━━━━━━\u001b[0m\u001b[37m\u001b[0m \u001b[1m0s\u001b[0m 542ms/step - accuracy: 0.4556 - loss: 1.2766"
     ]
    },
    {
     "name": "stderr",
     "output_type": "stream",
     "text": [
      "WARNING:absl:You are saving your model as an HDF5 file via `model.save()` or `keras.saving.save_model(model)`. This file format is considered legacy. We recommend using instead the native Keras format, e.g. `model.save('my_model.keras')` or `keras.saving.save_model(model, 'my_model.keras')`. \n"
     ]
    },
    {
     "name": "stdout",
     "output_type": "stream",
     "text": [
      "\u001b[1m455/455\u001b[0m \u001b[32m━━━━━━━━━━━━━━━━━━━━\u001b[0m\u001b[37m\u001b[0m \u001b[1m257s\u001b[0m 565ms/step - accuracy: 0.4556 - loss: 1.2766 - val_accuracy: 0.4985 - val_loss: 1.1980\n",
      "Epoch 6/20\n",
      "\u001b[1m455/455\u001b[0m \u001b[32m━━━━━━━━━━━━━━━━━━━━\u001b[0m\u001b[37m\u001b[0m \u001b[1m255s\u001b[0m 561ms/step - accuracy: 0.4665 - loss: 1.2564 - val_accuracy: 0.4952 - val_loss: 1.1958\n",
      "Epoch 7/20\n",
      "\u001b[1m455/455\u001b[0m \u001b[32m━━━━━━━━━━━━━━━━━━━━\u001b[0m\u001b[37m\u001b[0m \u001b[1m264s\u001b[0m 579ms/step - accuracy: 0.4698 - loss: 1.2470 - val_accuracy: 0.4820 - val_loss: 1.2051\n",
      "Epoch 8/20\n",
      "\u001b[1m126/455\u001b[0m \u001b[32m━━━━━\u001b[0m\u001b[37m━━━━━━━━━━━━━━━\u001b[0m \u001b[1m3:08\u001b[0m 573ms/step - accuracy: 0.4810 - loss: 1.2455"
     ]
    }
   ],
   "source": [
    "# train model\n",
    "checkpoint = ModelCheckpoint(MODEL_SAVE_PATH, save_best_only=True, monitor='val_accuracy', mode='max')\n",
    "\n",
    "history = model.fit(\n",
    "    [mfcc_train, spec_train], y_train,\n",
    "    validation_data=([mfcc_val, spec_val], y_val),\n",
    "    epochs=20,\n",
    "    batch_size=32,\n",
    "    callbacks=[checkpoint],\n",
    "    verbose=1,\n",
    "    class_weight=class_weights_dict\n",
    ")\n",
    "\n",
    "print(f\"Model trained and saved to {MODEL_SAVE_PATH}\")"
   ]
  },
  {
   "cell_type": "code",
   "execution_count": null,
   "id": "adc5757a",
   "metadata": {},
   "outputs": [],
   "source": [
    "# visualization\n",
    "plt.plot(history.history['accuracy'], label='Train Accuracy')\n",
    "plt.plot(history.history['val_accuracy'], label='Validation Accuracy')\n",
    "plt.title('Training & Validation Accuracy Over Epochs')\n",
    "plt.xlabel('Epoch')\n",
    "plt.ylabel('Accuracy')\n",
    "plt.legend()\n",
    "plt.show()"
   ]
  }
 ],
 "metadata": {
  "kernelspec": {
   "display_name": "venv",
   "language": "python",
   "name": "python3"
  },
  "language_info": {
   "codemirror_mode": {
    "name": "ipython",
    "version": 3
   },
   "file_extension": ".py",
   "mimetype": "text/x-python",
   "name": "python",
   "nbconvert_exporter": "python",
   "pygments_lexer": "ipython3",
   "version": "3.11.5"
  }
 },
 "nbformat": 4,
 "nbformat_minor": 5
}
